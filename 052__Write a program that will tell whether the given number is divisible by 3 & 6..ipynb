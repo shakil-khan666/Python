{
 "cells": [
  {
   "cell_type": "code",
   "execution_count": 4,
   "id": "3d40e48f",
   "metadata": {},
   "outputs": [
    {
     "name": "stdout",
     "output_type": "stream",
     "text": [
      "Enter the number : 60\n",
      "possible\n",
      "60\n"
     ]
    }
   ],
   "source": [
    "number=int(input(\"Enter the number : \"))\n",
    "if number%3==0:\n",
    "    print('possible')\n",
    "elif number%6==0:\n",
    "    print(\"possible\")\n",
    "else:\n",
    "    print(\"Not Possible\")\n",
    "\n",
    "print(number)"
   ]
  },
  {
   "cell_type": "code",
   "execution_count": null,
   "id": "e60146f3",
   "metadata": {},
   "outputs": [],
   "source": []
  }
 ],
 "metadata": {
  "kernelspec": {
   "display_name": "Python 3 (ipykernel)",
   "language": "python",
   "name": "python3"
  },
  "language_info": {
   "codemirror_mode": {
    "name": "ipython",
    "version": 3
   },
   "file_extension": ".py",
   "mimetype": "text/x-python",
   "name": "python",
   "nbconvert_exporter": "python",
   "pygments_lexer": "ipython3",
   "version": "3.9.13"
  }
 },
 "nbformat": 4,
 "nbformat_minor": 5
}
